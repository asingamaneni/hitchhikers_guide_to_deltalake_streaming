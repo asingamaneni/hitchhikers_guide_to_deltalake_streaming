{
 "cells": [
  {
   "cell_type": "code",
   "execution_count": null,
   "id": "a457036d-1d98-46e0-a64e-52faa61300e1",
   "metadata": {
    "tags": []
   },
   "outputs": [],
   "source": [
    "# run first. then have fun.\n",
    "from pyspark.sql.functions import col\n",
    "from delta.tables import DeltaTable\n",
    "\n",
    "# keep the default compression codec as zstd\n",
    "spark.conf.set(\"spark.sql.parquet.compression.codec\", \"zstd\")\n",
    "\n",
    "# common dirs, paths\n",
    "dataset_dir = '/opt/spark/work-dir/hitchhikers_guide/datasets/ecomm_behavior_data'\n",
    "delta_path = f\"{dataset_dir}/delta\"\n",
    "\n",
    "# table information\n",
    "dl_table_name = \"ecomm\"\n",
    "dl_managed_table = f\"default.{dl_table_name}\""
   ]
  },
  {
   "cell_type": "markdown",
   "id": "2c37f33a-778d-446f-b041-2820c1a257b2",
   "metadata": {},
   "source": [
    "# Intro to Delta Lake Streaming\n",
    "The following section will reuse the **Delta Lake** `default.ecomm` table created during [Streaming First Steps](./streaming-first-steps.ipynb).\n",
    "\n",
    "> note: run the following cell to check if you have the local table. You should see `[Table(name='ecomm_by_day', database='default', description=None, tableType='MANAGED', isTemporary=False)]` somewhere in the list (if you have more than one from the work in the Guide)"
   ]
  },
  {
   "cell_type": "code",
   "execution_count": null,
   "id": "b4a3f372-ea71-436e-9182-25d66c7b989f",
   "metadata": {
    "tags": []
   },
   "outputs": [],
   "source": [
    "spark.catalog.setCurrentDatabase(\"default\")\n",
    "spark.catalog.listTables()"
   ]
  },
  {
   "cell_type": "markdown",
   "id": "6598b8a9-bfb1-49aa-86c9-cc9b1b67f5b8",
   "metadata": {
    "tags": []
   },
   "source": [
    "> Note: If you see `java.sql.SQLException: Failed to start database 'metastore_db' with class loader jdk.internal.loader.ClassLoaders$AppClassLoader...` then you need to detach the `kernel` from the other notebook you have open. You can only have one notebook running with the local Metastore."
   ]
  },
  {
   "cell_type": "markdown",
   "id": "1026cfd7-e080-41ca-aaf4-d28644ff8b53",
   "metadata": {},
   "source": [
    "# Cleaning up with Vacuum.\n",
    "We are done with the introduction to Streaming. The First steps covers creating tables, and modifying the table properties, as well as understanding a little more about the structure of a Delta Lake table. During normal processing, you most likely overwrote, or deleted some data, for each transaction that affects the data in a given Delta Lake table, there are some artifacts (call it orphaned data or files) that are no longer needed for the *CURRENT* version of the Delta Lake table. We will learn more about using `vacuum` while preserving enough history to `undo`, `rewind`, or `time-travel` to a particular point in Table Time under "
   ]
  },
  {
   "cell_type": "code",
   "execution_count": null,
   "id": "ec289a34-e8b0-4c76-b9c5-eace8ef765d4",
   "metadata": {
    "tags": []
   },
   "outputs": [],
   "source": [
    "spark.conf.set(\"spark.databricks.delta.retentionDurationCheck.enabled\",\"false\")\n",
    "DeltaTable.forPath(spark, f\"{delta_path}/{dl_table_name}\").vacuum(retentionHours=0)\n",
    "spark.conf.set(\"spark.databricks.delta.retentionDurationCheck.enabled\",\"true\")"
   ]
  }
 ],
 "metadata": {
  "kernelspec": {
   "display_name": "Python 3 (ipykernel)",
   "language": "python",
   "name": "python3"
  },
  "language_info": {
   "codemirror_mode": {
    "name": "ipython",
    "version": 3
   },
   "file_extension": ".py",
   "mimetype": "text/x-python",
   "name": "python",
   "nbconvert_exporter": "python",
   "pygments_lexer": "ipython3",
   "version": "3.9.2"
  }
 },
 "nbformat": 4,
 "nbformat_minor": 5
}
