{
 "cells": [
  {
   "cell_type": "code",
   "execution_count": 2,
   "id": "c40b19c7-0434-41cf-86cd-a153073577f2",
   "metadata": {
    "tags": []
   },
   "outputs": [],
   "source": [
    "from pyspark.sql.functions import col\n",
    "from delta.tables import DeltaTable"
   ]
  },
  {
   "cell_type": "markdown",
   "id": "4cdf07ce-0b60-438c-99ed-e0bb25f76fc5",
   "metadata": {},
   "source": [
    "# First Steps: Delta Lake Streaming\n",
    "> We will discover how to create a Delta Lake table. Then use that table to create a simple streaming application."
   ]
  },
  {
   "cell_type": "code",
   "execution_count": null,
   "id": "6fe3dc33-f63a-4551-baf6-fcb36aceedd6",
   "metadata": {},
   "outputs": [],
   "source": []
  }
 ],
 "metadata": {
  "kernelspec": {
   "display_name": "Python 3 (ipykernel)",
   "language": "python",
   "name": "python3"
  },
  "language_info": {
   "codemirror_mode": {
    "name": "ipython",
    "version": 3
   },
   "file_extension": ".py",
   "mimetype": "text/x-python",
   "name": "python",
   "nbconvert_exporter": "python",
   "pygments_lexer": "ipython3",
   "version": "3.9.2"
  }
 },
 "nbformat": 4,
 "nbformat_minor": 5
}
