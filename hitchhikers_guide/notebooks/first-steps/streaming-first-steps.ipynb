{
 "cells": [
  {
   "cell_type": "code",
   "execution_count": 7,
   "id": "c40b19c7-0434-41cf-86cd-a153073577f2",
   "metadata": {
    "tags": []
   },
   "outputs": [],
   "source": [
    "# run first. then have fun.\n",
    "from pyspark.sql.functions import col\n",
    "from delta.tables import DeltaTable\n",
    "\n",
    "# keep the default compression codec as zstd\n",
    "spark.conf.set(\"spark.sql.parquet.compression.codec\", \"zstd\")"
   ]
  },
  {
   "cell_type": "markdown",
   "id": "4cdf07ce-0b60-438c-99ed-e0bb25f76fc5",
   "metadata": {},
   "source": [
    "# First Steps: Delta Lake Streaming\n",
    "We will discover how to easily create a Delta Lake table using the `datasets/ecomm_behavior_data/parquet/[sm|lg]/` data created in the [../notebooks/pre-processing/ecomm_csv_to_parquet.ipynb](./notebooks/pre-processing/ecomm_csv_to_parquet.ipynb).\n",
    "\n",
    "1. We will use the `parquet` data to convert to a [Delta Lake table](https://docs.delta.io/latest/delta-batch.html#create-a-table).\n",
    "2. We will also look at creating the table using the [DeltaTable](https://docs.delta.io/latest/api/python/index.html) builder methods."
   ]
  },
  {
   "cell_type": "code",
   "execution_count": 2,
   "id": "6fe3dc33-f63a-4551-baf6-fcb36aceedd6",
   "metadata": {
    "tags": []
   },
   "outputs": [
    {
     "name": "stdout",
     "output_type": "stream",
     "text": [
      "/opt/spark/work-dir/hitchhikers_guide/datasets/ecomm_behavior_data/parquet/lg/\n"
     ]
    }
   ],
   "source": [
    "dataset_dir = '/opt/spark/work-dir/hitchhikers_guide/datasets/ecomm_behavior_data'\n",
    "# note: if you download the full dataset from https://www.kaggle.com/datasets/mkechinov/ecommerce-behavior-data-from-multi-category-store,\n",
    "# just use the following and comment out the `-sm.csv` datasets.\n",
    "datasets = ['2019-Oct.csv','2019-Nov.csv']\n",
    "#datasets = ['2019-Oct-sm.csv','2019-Nov-sm.csv']\n",
    "\n",
    "source_dir = 'sm' if datasets[1].endswith('-sm.csv') else 'lg'\n",
    "source_parquet = f\"{dataset_dir}/parquet/{source_dir}/\"\n",
    "\n",
    "# view the source parquet path\n",
    "print(source_parquet)"
   ]
  },
  {
   "cell_type": "markdown",
   "id": "f25ff8d8-5ea1-42a4-96c9-a47b3cdd8cd3",
   "metadata": {},
   "source": [
    "# Delta Lake Tables\n",
    "We will learn to create an `empty` Delta Lake table next. There are many reasons that you'll want to create empty tables, for one, this allows you to create the `promise` of eventual data, while first getting things like the tables `schema` locked into place. If none of this is making sense yet, then never fear, you'll learn about `schemas` and `tblproperties` next.\n",
    "\n",
    "If you recall, we used a `StructType` to create a schema when we read the `ecomm_behavior_data` in the [pre-processing](./notebooks/pre-processing/ecomm_csv_to_parquet.ipynb) notebook. The StructType is to DataFrames, like a structured data is to a Table row, both are strongly typed and provide a bit of peace of mind when working with a dataset. \n",
    "\n",
    "Structured Data is also one of the most important concepts to keep in mind while working with Streaming datasets.\n",
    "\n",
    "## Structured Data as our Data Contract\n",
    "Delta Lake uses a technique called `schema-on-write`. This means that all data being written by the `writer` or `producer` of a dataset must conform to a known `schema` after the initial `write` which in Delta Lake encapsulates a `transaction`. After the **initial write transaction**, which occurs at the time of table **creation**, a schema will exist. The importance of the `schema` is that it is `type-safe`. Type saftey with our data is also of critical importance for streaming, since a change in type, say from `string` to `integer` would break `backwards-compatibility` and `corrupt` our table. We don't want corrupt tables, so using `schema-on-write` and `schema-enforcement`, both tenents of the Delta Lake architecture, we can rest assured that any changes to our `schema` is backwards compatible*.\n",
    "\n",
    "> note and warning: (*) in the case where we must break backwards compatibility, we can, but it comes at the cost of `overwriting` the entire table and `schema`. This pattern is ripe for broken promises in the case where communication of a breaking-change, isn't broadcast to any downstream consumer (someone or some team that is relying on your data for their data product).\n",
    "\n",
    "We will create an Empty Table next that will hold our ecommerce data.\n",
    "\n",
    "## Creating an Unmanaged Delta Lake Table"
   ]
  },
  {
   "cell_type": "code",
   "execution_count": 3,
   "id": "ac87b7c1-f803-483a-83a9-e76eca20cb23",
   "metadata": {
    "tags": []
   },
   "outputs": [
    {
     "name": "stdout",
     "output_type": "stream",
     "text": [
      "struct<event_time:timestamp,event_type:string,product_id:int,category_id:bigint,category_code:string,brand:string,price:float,user_id:int,user_session:string,event_date:date>\n"
     ]
    }
   ],
   "source": [
    "# steal the schema pattern\n",
    "source_parquet = (spark.read\n",
    " .format(\"parquet\")\n",
    " .load(f\"{dataset_dir}/parquet/{source_dir}/\")\n",
    ")\n",
    "\n",
    "source_schema = source_parquet.schema.simpleString()\n",
    "# using the output of the schema from the reference `parquet` table, we can steal enough information to create our empty table\n",
    "print(source_schema)"
   ]
  },
  {
   "cell_type": "code",
   "execution_count": null,
   "id": "831b346e-5f58-438a-9856-a89b0cff94f8",
   "metadata": {
    "tags": []
   },
   "outputs": [],
   "source": [
    "## Delta Lake Table Location on the File System\n",
    "# > note: Delta Lake tables come in two variants (unmanaged and managed)\n",
    "delta_path = f\"{dataset_dir}/delta\"\n",
    "dl_table_name = \"ecomm\"\n",
    "\n",
    "spark.sql(f\"\"\"\n",
    "    CREATE TABLE IF NOT EXISTS delta.`{delta_path}/{dl_table_name}` (\n",
    "        event_time TIMESTAMP,\n",
    "        event_type STRING,\n",
    "        product_id INTEGER,\n",
    "        category_id BIGINT,\n",
    "        category_code STRING,\n",
    "        brand STRING,\n",
    "        price FLOAT,\n",
    "        user_id INTEGER,\n",
    "        user_session STRING,\n",
    "        event_date DATE\n",
    "    ) USING DELTA\n",
    "    PARTITIONED BY (event_date)\n",
    "    TBLPROPERTIES('delta.logRetentionDuration'='interval 28 days');\n",
    "   \"\"\")"
   ]
  },
  {
   "cell_type": "markdown",
   "id": "dcd9c131-3750-455b-8a90-9d198e9f11cb",
   "metadata": {
    "tags": []
   },
   "source": [
    "The prior `CREATE TABLE` command will generate an empty Delta Lake table. This doesn't mean that the `table` is actually empty though. The table contains `metadata` which provides information such as the table properties, partition columns, and table location information. Given the `source parquet data` is partitioned by `event_date`, we needed to preserve the `daily` partitions in our `parquet` table. This allows us to not think about how we partition as new data is being added to the table. Using the `event_date` table partitions will be written into without our supervision.\n",
    "\n",
    "If you have `tree` installed on your local machine, take a look at the output of calling:\n",
    "\n",
    "`tree ./hitchhikers_guide/datasets/ecomm_behavior_data/delta/`.\n",
    "\n",
    "```\n",
    "./hitchhikers_guide/datasets/ecomm_behavior_data/delta/\n",
    "└── ecomm\n",
    "    └── _delta_log\n",
    "        └── 00000000000000000000.json\n",
    "\n",
    "3 directories, 1 file\n",
    "```\n",
    "\n",
    "> Note: If you are using a mac and have brew installed. `brew install tree`.\n"
   ]
  },
  {
   "cell_type": "markdown",
   "id": "61898a62-0a0d-4f4a-b2e9-de3b93e05a36",
   "metadata": {},
   "source": [
    "## Populate our Empty Table using our Parquet Source Table\n",
    "In order to add records to our newly created `empty` table, we need to just read and write into the new table. \n",
    "\n",
    "> note: If you are reading the entire october and november ecomm data you may see a JVM OOM followed by Py4JError: py4j does not exist in the JVM. This means the driver just crashed."
   ]
  },
  {
   "cell_type": "code",
   "execution_count": null,
   "id": "7b57c94c-f1ed-4657-aa59-5ce8a31e90cf",
   "metadata": {
    "tags": []
   },
   "outputs": [],
   "source": [
    "# providing the source_parquet for completeness. This has been created earlier in the notebook to steal the parquet schema.\n",
    "\n",
    "# if you want to play around with resolving OOM on the big dataset, don't import by day, and watch things fall over. (~14gb into 1gb memory)...\n",
    "#source_parquet = (spark.read\n",
    "# .format(\"parquet\")\n",
    "# .load(f\"{dataset_dir}/parquet/{source_dir}/\")\n",
    "#)\n",
    "\n",
    "source_parquet = (spark.read\n",
    "  .format(\"parquet\")\n",
    "  .load(f\"{dataset_dir}/parquet/{source_dir}/\")\n",
    "  .where(col(\"event_date\").eqNullSafe(\"2019-10-01\"))\n",
    ")\n",
    "\n",
    "(source_parquet\n",
    " .write\n",
    " .format(\"delta\")\n",
    " .option(\"path\", f\"{delta_path}/{dl_table_name}\")\n",
    " .mode(\"append\")\n",
    " .save()\n",
    ")"
   ]
  },
  {
   "cell_type": "markdown",
   "id": "5b3ab7b8-e248-46d7-a878-e1b4fb859f51",
   "metadata": {},
   "source": [
    "1. What have you learned in the process of reading the source parquet into the new Delta Table location?\n",
    "2. What patterns have you picked up here? Did you try playing with different strategies for selecting data using the `.where(col(\"event_date\")....)`? What about using a collection of dates, or matches like `2019-10-1*`? If you are new to using PySpark or Spark in general, take a look at the [pyspark.sql.functions](https://spark.apache.org/docs/latest/api/python/reference/pyspark.sql/functions.html) package to help you on your way.\n",
    "3. If you were using the large datasets, what kinds of issues did you run into? \n",
    "\n",
    "Depending on how many actions you were taking. You probably saw: \n",
    "\n",
    "```\n",
    "[warning][gc,alloc] Executor task launch worker for task 5.0 in stage 603.0 (TID 8573): Retried waiting for GCLocker too often allocating 262144 words\n",
    "23/06/19 21:22:03 WARN TaskMemoryManager: Failed to allocate a page (2097136 bytes), try again\n",
    "```\n",
    "\n",
    "Learning to use Warnings and Exceptions to your advantage can be really helpful to understand what sorts of pressure points exist in your applications. It is also much more fun to break things locally, when we aren't experiencing problems in production."
   ]
  },
  {
   "cell_type": "markdown",
   "id": "428900e8-ef29-408b-94d7-fbfc6bad63a7",
   "metadata": {},
   "source": [
    "## What Makes up a Delta Lake Table?\n",
    "The Delta Lake table is comprised of the `_delta_log` directory, as well as optional `partition` based directories, or in the case of simple tables, just a collection of `part-{uuid}.c000.{compression}.parquet`, which would populate the `partition based directories` as well.\n",
    "\n",
    "```\n",
    "./hitchhikers_guide/datasets/ecomm_behavior_data/delta/\n",
    "└── ecomm\n",
    "    ├── _delta_log\n",
    "    │   ├── 00000000000000000000.json\n",
    "    │   ├── 00000000000000000001.json\n",
    "    └── event_date=2019-10-01\n",
    "        ├── part-00002-abb10ec6-6425-4ef1-91e8-ccb05489fa35.c000.zstd.parquet\n",
    "        ├── part-00004-2eda7d21-dcf8-48b5-8e76-0dc6e71575d2.c000.zstd.parquet\n",
    "```\n",
    "\n",
    "You will notice the `zstd` compression. ZSTD compression is like compression on sterioids. We set this earlier on in the notebook using `spark.conf.set(\"spark.sql.parquet.compression.codec\", \"zstd\")`. \n",
    "\n",
    "For comparison, if you comment out the line in the first cell of the notebook, Spark will use the default `snappy` compression codec. This is still a powerful compression codec, but for a size-on-disk comparision.\n",
    "\n",
    "```\n",
    "ls -lh ./hitchhikers_guide/datasets/ecomm_behavior_data/delta/ecomm/event_date=2019-10-01\n",
    "-rw-r--r--  1 {me}  staff    37M Jun 19 13:57 part-00002-3e39ad07-cc35-4ef1-a0eb-77652c3cbc07.c000.snappy.parquet\n",
    "-rw-r--r--  1 {me}  staff   5.6M Jun 19 13:57 part-00004-fb1843f4-bdb7-4578-b14a-257b2525f6b5.c000.snappy.parquet\n",
    "-rw-r--r--  1 {me}  staff    18M Jun 19 13:59 part-00002-abb10ec6-6425-4ef1-91e8-ccb05489fa35.c000.zstd.parquet\n",
    "-rw-r--r--  1 {me}  staff   3.7M Jun 19 13:59 part-00004-2eda7d21-dcf8-48b5-8e76-0dc6e71575d2.c000.zstd.parquet\n",
    "```\n",
    "\n",
    "> For the exact same data, the zstd compression results in a ~48% reduction in size from (37mb->18mb) and a ~66% reduction in size from 5.6mb->3.7mb. That is over 50% size reduction which is bonkers."
   ]
  },
  {
   "cell_type": "code",
   "execution_count": 9,
   "id": "8d870ada-224d-49ad-b5b3-6c36fa66f0df",
   "metadata": {
    "tags": []
   },
   "outputs": [],
   "source": [
    "# Work in Progress"
   ]
  },
  {
   "cell_type": "markdown",
   "id": "910ef125-8021-4a75-a968-bbb22a06fc3d",
   "metadata": {},
   "source": [
    "## Converting an existing Parquet Table to Delta Lake\n",
    "Using the `convertToDelta` method via the `DeltaTable` python utility enables us to easily create our Delta Lake table in place. In place just means that the table will not have to be copied and moved, furthermore, since Delta Lake uses Parquet all that is modified is the addition of the `_delta_log` file in the root of the table. \n",
    "\n",
    "> note: if you want to use the convertToDelta utility function, just uncomment the following cell and run it, otherwise, skip on to creating a new Delta Lake table."
   ]
  },
  {
   "cell_type": "code",
   "execution_count": 7,
   "id": "5e419977-aa92-4fd2-af5d-7fcbb326b4d1",
   "metadata": {
    "tags": []
   },
   "outputs": [],
   "source": [
    "# The convertToDelta method will take an existing `Parquet` table, and convert it in place to a DeltaLake table.\n",
    "# dt = DeltaTable.convertToDelta(spark, f\"parquet.`{source_parquet}`\")"
   ]
  },
  {
   "cell_type": "markdown",
   "id": "75e45347-9d55-4e2b-9d4b-2516a841b712",
   "metadata": {},
   "source": [
    "# Cleaning up with Vacuum.\n",
    "We are done with the introduction to Streaming. The First steps covers creating tables, and modifying the table properties, as well as understanding a little more about the structure of a Delta Lake table. During normal processing, you most likely overwrote, or deleted some data, for each transaction that affects the data in a given Delta Lake table, there are some artifacts (call it orphaned data or files) that are no longer needed for the *CURRENT* version of the Delta Lake table. We will learn more about using `vacuum` while preserving enough history to `undo`, `rewind`, or `time-travel` to a particular point in Table Time under "
   ]
  },
  {
   "cell_type": "code",
   "execution_count": 72,
   "id": "8b21b48f-8ec2-4cb6-876d-191718df0e13",
   "metadata": {},
   "outputs": [
    {
     "name": "stdout",
     "output_type": "stream",
     "text": [
      "Deleted 78 files and directories in a total of 62 directories.\n"
     ]
    }
   ],
   "source": [
    "spark.conf.set(\"spark.databricks.delta.retentionDurationCheck.enabled\",\"false\")\n",
    "DeltaTable.forPath(spark, f\"{delta_path}/{dl_table_name}\").vacuum(retentionHours=0)\n",
    "spark.conf.set(\"spark.databricks.delta.retentionDurationCheck.enabled\",\"true\")"
   ]
  }
 ],
 "metadata": {
  "kernelspec": {
   "display_name": "Python 3 (ipykernel)",
   "language": "python",
   "name": "python3"
  },
  "language_info": {
   "codemirror_mode": {
    "name": "ipython",
    "version": 3
   },
   "file_extension": ".py",
   "mimetype": "text/x-python",
   "name": "python",
   "nbconvert_exporter": "python",
   "pygments_lexer": "ipython3",
   "version": "3.9.2"
  }
 },
 "nbformat": 4,
 "nbformat_minor": 5
}
